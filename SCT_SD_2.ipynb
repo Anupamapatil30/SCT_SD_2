{
  "nbformat": 4,
  "nbformat_minor": 0,
  "metadata": {
    "colab": {
      "provenance": [],
      "toc_visible": true
    },
    "kernelspec": {
      "name": "python3",
      "display_name": "Python 3"
    },
    "language_info": {
      "name": "python"
    }
  },
  "cells": [
    {
      "cell_type": "code",
      "source": [
        "import random\n",
        "\n",
        "def guess_the_number():\n",
        "    random_number = random.randint(1, 100)\n",
        "    print(\"Welcome to 'Guess the Number'!\")\n",
        "    print(\"I've picked a number between 1 and 100. Can you guess what it is?\")\n",
        "\n",
        "    attempts = 0\n",
        "\n",
        "    while True:\n",
        "        try:\n",
        "          guess = int(input(\"Enter your guess: \"))\n",
        "          attempts += 1\n",
        "          if guess < random_number:\n",
        "                print(\"Too low! Try again.\")\n",
        "          elif guess > random_number:\n",
        "                print(\"Too high! Try again.\")\n",
        "          else:\n",
        "                print(f\"Congratulations! You guessed the number in {attempts} attempts.\")\n",
        "                break\n",
        "        except ValueError:\n",
        "            print(\"Invalid input. Please enter a valid number.\")\n",
        "\n",
        "\n",
        "guess_the_number()\n"
      ],
      "metadata": {
        "colab": {
          "base_uri": "https://localhost:8080/"
        },
        "id": "SAgvXs5wUWp7",
        "outputId": "b104fad6-b9b8-4bab-e442-612a62f1433d"
      },
      "execution_count": 20,
      "outputs": [
        {
          "output_type": "stream",
          "name": "stdout",
          "text": [
            "Welcome to 'Guess the Number'!\n",
            "I've picked a number between 1 and 100. Can you guess what it is?\n",
            "Enter your guess: 59\n",
            "Too high! Try again.\n",
            "Enter your guess: 45\n",
            "Too high! Try again.\n",
            "Enter your guess: 36\n",
            "Too high! Try again.\n",
            "Enter your guess: 28\n",
            "Too high! Try again.\n",
            "Enter your guess: 23\n",
            "Too high! Try again.\n",
            "Enter your guess: 14\n",
            "Too low! Try again.\n",
            "Enter your guess: 18\n",
            "Too low! Try again.\n",
            "Enter your guess: 21\n",
            "Too high! Try again.\n",
            "Enter your guess: 19\n",
            "Congratulations! You guessed the number in 9 attempts.\n"
          ]
        }
      ]
    }
  ]
}